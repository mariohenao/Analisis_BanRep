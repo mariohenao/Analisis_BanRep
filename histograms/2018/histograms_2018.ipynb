{
 "cells": [
  {
   "cell_type": "code",
   "execution_count": 1,
   "metadata": {},
   "outputs": [],
   "source": [
    "import numpy as np\n",
    "import pandas as pd\n",
    "import matplotlib.pylab as plt"
   ]
  },
  {
   "cell_type": "code",
   "execution_count": 3,
   "metadata": {},
   "outputs": [],
   "source": [
    "data = pd.read_csv('2018_new.csv').dropna()\n",
    "data['date_time'] = data['date'] + ' ' + data['time']\n",
    "data['date_time'] = pd.to_datetime(data.date_time,format='%d/%m/%Y %H:%M:%S')\n",
    "data['date'] = pd.to_datetime(data.date,format='%d/%m/%Y')"
   ]
  },
  {
   "cell_type": "code",
   "execution_count": 4,
   "metadata": {},
   "outputs": [],
   "source": [
    "#January 1st to 'today'\n",
    "cond_fecha_in = data['date_time']>'2018-01-10 00:00:00'\n",
    "data = data[cond_fecha_in]"
   ]
  },
  {
   "cell_type": "code",
   "execution_count": 5,
   "metadata": {},
   "outputs": [],
   "source": [
    "cond_ref = data['observation'] <= 10.\n",
    "data = data[cond_ref]"
   ]
  },
  {
   "cell_type": "code",
   "execution_count": 6,
   "metadata": {},
   "outputs": [],
   "source": [
    "data = data.sort_values(by='date_time')\n",
    "data['weekday'] = data['date'].dt.day_name()\n",
    "data[\"month\"]= data[\"date\"].dt.month\n",
    "data[\"year\"]= data[\"date\"].dt.year"
   ]
  },
  {
   "cell_type": "code",
   "execution_count": 7,
   "metadata": {},
   "outputs": [
    {
     "data": {
      "text/plain": [
       "['TUVT11170327',\n",
       " 'TFIT16280428',\n",
       " 'EMPTY',\n",
       " 'TFIT16300632',\n",
       " 'TFIT08261125',\n",
       " 'TFIT15260826',\n",
       " 'TUVT17230223',\n",
       " 'TFIT10040522',\n",
       " 'TUVT20040435']"
      ]
     },
     "execution_count": 7,
     "metadata": {},
     "output_type": "execute_result"
    }
   ],
   "source": [
    "list(set(data['name']))"
   ]
  },
  {
   "cell_type": "code",
   "execution_count": 6,
   "metadata": {},
   "outputs": [],
   "source": [
    "data = data[data['name'] != 'TFIT15260826'] #bonos que aparecen en las primeras 10 observaciones \n",
    "data = data[data['name'] != 'TUVT10100321'] #pero no son de referencia (según el excel)\n",
    "data = data[data['name'] != 'TFIT10040522']"
   ]
  },
  {
   "cell_type": "code",
   "execution_count": 7,
   "metadata": {},
   "outputs": [
    {
     "name": "stderr",
     "output_type": "stream",
     "text": [
      "/srv/conda/lib/python3.6/site-packages/ipykernel_launcher.py:7: SettingWithCopyWarning: \n",
      "A value is trying to be set on a copy of a slice from a DataFrame.\n",
      "Try using .loc[row_indexer,col_indexer] = value instead\n",
      "\n",
      "See the caveats in the documentation: http://pandas.pydata.org/pandas-docs/stable/indexing.html#indexing-view-versus-copy\n",
      "  import sys\n"
     ]
    }
   ],
   "source": [
    "#Time histogram per month\n",
    "for bono in list(set(data['name'])):\n",
    "    hours_list = []\n",
    "    plt.figure(figsize=(20,15))\n",
    "    k = 1\n",
    "    datab = data[data['name'] == bono]\n",
    "    datab['new_index'] = range(len(datab)) #orders the list\n",
    "    datab = datab.set_index('new_index')\n",
    "    for i in range(1,len(datab)):\n",
    "        if datab['month'][i] == datab['month'][i-1]:\n",
    "            hours_list.append(((datab['date_time'][i] - datab['date'][i]).total_seconds())/3600.)\n",
    "        else:\n",
    "            plt.subplot(3,4,k)\n",
    "            plt.hist(hours_list, bins=10)\n",
    "            plt.xlabel('hour')\n",
    "            plt.ylabel('num. photos')\n",
    "            plt.title(datab['month'][i-1])\n",
    "            k += 1\n",
    "            hours_list = []\n",
    "    plt.subplot(3,4,k)\n",
    "    plt.hist(hours_list, bins=10)\n",
    "    plt.xlabel('hour')\n",
    "    plt.ylabel('num. photos')\n",
    "    plt.title(datab['month'][len(datab)-1])\n",
    "    plt.savefig(bono[:12]+'_month.pdf')\n",
    "    plt.tight_layout()\n",
    "    plt.close()"
   ]
  },
  {
   "cell_type": "code",
   "execution_count": 8,
   "metadata": {},
   "outputs": [
    {
     "name": "stderr",
     "output_type": "stream",
     "text": [
      "/srv/conda/lib/python3.6/site-packages/ipykernel_launcher.py:7: SettingWithCopyWarning: \n",
      "A value is trying to be set on a copy of a slice from a DataFrame.\n",
      "Try using .loc[row_indexer,col_indexer] = value instead\n",
      "\n",
      "See the caveats in the documentation: http://pandas.pydata.org/pandas-docs/stable/indexing.html#indexing-view-versus-copy\n",
      "  import sys\n"
     ]
    }
   ],
   "source": [
    "#Time histogram per year\n",
    "plt.figure(figsize=(20,10))\n",
    "k = 1\n",
    "for bono in list(set(data['name'])):\n",
    "    hours_list = []\n",
    "    datab = data[data['name'] == bono]\n",
    "    datab['new_index'] = range(len(datab)) #orders the list\n",
    "    datab = datab.set_index('new_index')\n",
    "    for i in range(1,len(datab)):\n",
    "        if datab['year'][i] == datab['year'][i-1]:\n",
    "            hours_list.append(((datab['date_time'][i] - datab['date'][i]).total_seconds())/3600.)\n",
    "        else:\n",
    "            #never enters here because it is always 2018\n",
    "            plt.subplot(2,4,k)\n",
    "            plt.hist(hours_list, bins=10)\n",
    "            plt.xlabel('hour')\n",
    "            plt.ylabel('num. photos')\n",
    "            plt.title(bono)\n",
    "            k += 1 \n",
    "            hours_list = []\n",
    "    plt.subplot(2,4,k)\n",
    "    plt.hist(hours_list, bins=10)\n",
    "    plt.xlabel('hour')\n",
    "    plt.ylabel('num. photos')\n",
    "    k += 1\n",
    "    plt.title(bono)\n",
    "plt.savefig('photos_2018.pdf')\n",
    "plt.tight_layout()\n",
    "plt.close()"
   ]
  },
  {
   "cell_type": "code",
   "execution_count": 9,
   "metadata": {},
   "outputs": [],
   "source": [
    "#Time histogram per day of the week\n",
    "for bono in list(set(data['name'])):\n",
    "    hours_list = []\n",
    "    plt.figure(figsize=(20,15))\n",
    "    k = 1\n",
    "    datab = data[data['name'] == bono]\n",
    "    datab = datab.sort_values(by='weekday') #orders the list\n",
    "    datab['new_indexx'] = range(len(datab))\n",
    "    datab = datab.set_index('new_indexx')\n",
    "    for i in range(1,len(datab)):\n",
    "        if datab['weekday'][i] == datab['weekday'][i-1]:\n",
    "            hours_list.append(((datab['date_time'][i] - datab['date'][i]).total_seconds())/3600.)\n",
    "        else:\n",
    "            plt.subplot(2,4,k)\n",
    "            plt.hist(hours_list, bins=10)\n",
    "            plt.xlabel('hour')\n",
    "            plt.ylabel('num. photos')\n",
    "            plt.title(datab['weekday'][i-1])\n",
    "            k += 1\n",
    "            hours_list = []\n",
    "    plt.subplot(2,4,k)\n",
    "    plt.hist(hours_list, bins=10)\n",
    "    plt.xlabel('hour')\n",
    "    plt.ylabel('num. photos')\n",
    "    plt.title(datab['weekday'][len(datab)-1])\n",
    "    plt.savefig(bono[:12]+'_weekday.pdf')\n",
    "    plt.tight_layout()\n",
    "    plt.close()"
   ]
  },
  {
   "cell_type": "markdown",
   "metadata": {},
   "source": [
    "All bonds per year"
   ]
  },
  {
   "cell_type": "code",
   "execution_count": 2,
   "metadata": {},
   "outputs": [],
   "source": [
    "data = pd.read_csv('2018_new.csv').dropna()\n",
    "data['date_time'] = data['date'] + ' ' + data['time']\n",
    "data['date_time'] = pd.to_datetime(data.date_time,format='%d/%m/%Y %H:%M:%S')\n",
    "data['date'] = pd.to_datetime(data.date,format='%d/%m/%Y')"
   ]
  },
  {
   "cell_type": "code",
   "execution_count": 3,
   "metadata": {},
   "outputs": [],
   "source": [
    "data = data.sort_values(by='date_time')\n",
    "data['weekday'] = data['date'].dt.day_name()\n",
    "data[\"month\"]= data[\"date\"].dt.month\n",
    "data[\"year\"]= data[\"date\"].dt.year"
   ]
  },
  {
   "cell_type": "code",
   "execution_count": 4,
   "metadata": {},
   "outputs": [
    {
     "name": "stderr",
     "output_type": "stream",
     "text": [
      "/srv/conda/lib/python3.6/site-packages/ipykernel_launcher.py:8: SettingWithCopyWarning: \n",
      "A value is trying to be set on a copy of a slice from a DataFrame.\n",
      "Try using .loc[row_indexer,col_indexer] = value instead\n",
      "\n",
      "See the caveats in the documentation: http://pandas.pydata.org/pandas-docs/stable/indexing.html#indexing-view-versus-copy\n",
      "  \n"
     ]
    }
   ],
   "source": [
    "#Time histogram per year (all bonds)\n",
    "list10 = [1,2,3,4,5,6,7,8,9,10]\n",
    "plt.figure(figsize=(20,25))\n",
    "k = 1\n",
    "for bono in list(set(data['name'])):\n",
    "    hours_list = []\n",
    "    datab = data[data['name'] == bono]\n",
    "    datab['new_index'] = range(len(datab)) #orders the list\n",
    "    datab = datab.set_index('new_index')\n",
    "    for i in range(1,len(datab)):\n",
    "        hours_list.append(((datab['date_time'][i] - datab['date'][i]).total_seconds())/3600.)\n",
    "        if i== len(datab)-1:\n",
    "            #print(len(hours_list),bono)\n",
    "            plt.subplot(6,6,k)\n",
    "            plt.hist(hours_list, bins=10)\n",
    "            plt.xlabel('hour')\n",
    "            plt.ylabel('num. photos')\n",
    "            a = []\n",
    "            for ii in range(10):\n",
    "                a.append(list10[ii] in datab['observation'].values)\n",
    "            #print(datab['observation'])\n",
    "            if True in a:\n",
    "                plt.title(bono,color='r')\n",
    "            else:\n",
    "                plt.title(bono)\n",
    "            k += 1 \n",
    "            hours_list = []\n",
    "plt.savefig('all_bonds_2018.pdf')\n",
    "plt.tight_layout()\n",
    "plt.close()"
   ]
  },
  {
   "cell_type": "code",
   "execution_count": null,
   "metadata": {},
   "outputs": [],
   "source": []
  }
 ],
 "metadata": {
  "kernelspec": {
   "display_name": "Python 3",
   "language": "python",
   "name": "python3"
  },
  "language_info": {
   "codemirror_mode": {
    "name": "ipython",
    "version": 3
   },
   "file_extension": ".py",
   "mimetype": "text/x-python",
   "name": "python",
   "nbconvert_exporter": "python",
   "pygments_lexer": "ipython3",
   "version": "3.6.6"
  }
 },
 "nbformat": 4,
 "nbformat_minor": 2
}
